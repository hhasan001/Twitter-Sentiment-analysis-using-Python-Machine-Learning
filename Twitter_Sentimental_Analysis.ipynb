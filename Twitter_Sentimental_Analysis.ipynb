{
  "nbformat": 4,
  "nbformat_minor": 0,
  "metadata": {
    "colab": {
      "provenance": []
    },
    "kernelspec": {
      "name": "python3",
      "display_name": "Python 3"
    },
    "language_info": {
      "name": "python"
    }
  },
  "cells": [
    {
      "cell_type": "code",
      "source": [
        "import pandas as pd\n",
        "import nltk\n",
        "nltk.download('stopwords')\n",
        "import numpy as np\n",
        "import re\n",
        "import seaborn as sns\n",
        "import matplotlib.pyplot as plt\n",
        "from matplotlib import style\n",
        "style.use('ggplot')\n",
        "from textblob import TextBlob\n",
        "from nltk.tokenize import word_tokenize\n",
        "from nltk.stem import PorterStemmer\n",
        "from nltk.corpus import stopwords\n",
        "stop_words = set(stopwords.words('english'))\n",
        "from wordcloud import WordCloud\n",
        "from sklearn.feature_extraction.text import CountVectorizer\n",
        "from sklearn.model_selection import train_test_split\n",
        "from sklearn.linear_model import LogisticRegression\n",
        "from sklearn.metrics import accuracy_score, classification_report, confusion_matrix, ConfusionMatrixDisplay"
      ],
      "metadata": {
        "id": "NmxbrRLvd1aA"
      },
      "execution_count": null,
      "outputs": []
    },
    {
      "cell_type": "code",
      "source": [
        "df = pd.read_csv('/content/vaccination_tweets (1).csv')"
      ],
      "metadata": {
        "id": "mpYYkz2ud4B_"
      },
      "execution_count": null,
      "outputs": []
    },
    {
      "cell_type": "code",
      "source": [
        "df.head()"
      ],
      "metadata": {
        "id": "n1vGsHkqd63A"
      },
      "execution_count": null,
      "outputs": []
    },
    {
      "cell_type": "code",
      "source": [
        "df.info()"
      ],
      "metadata": {
        "id": "hfmnlWdld-xL"
      },
      "execution_count": null,
      "outputs": []
    },
    {
      "cell_type": "code",
      "source": [
        "df.isnull().sum()"
      ],
      "metadata": {
        "id": "f-5tRuaHeDKb"
      },
      "execution_count": null,
      "outputs": []
    },
    {
      "cell_type": "code",
      "source": [
        "df.columns"
      ],
      "metadata": {
        "id": "wZ6uTbeWeGCM"
      },
      "execution_count": null,
      "outputs": []
    },
    {
      "cell_type": "code",
      "source": [
        "text_df = df.drop(['id', 'user_name', 'user_location', 'user_description', 'user_created',\n",
        "       'user_followers', 'user_friends', 'user_favourites', 'user_verified',\n",
        "       'date', 'hashtags', 'source', 'retweets', 'favorites',\n",
        "       'is_retweet'], axis=1)\n",
        "text_df.head()"
      ],
      "metadata": {
        "id": "PqiYHvQHeI3y"
      },
      "execution_count": null,
      "outputs": []
    },
    {
      "cell_type": "code",
      "source": [
        "print(text_df['text'].iloc[0],\"\\n\")\n",
        "print(text_df['text'].iloc[1],\"\\n\")\n",
        "print(text_df['text'].iloc[2],\"\\n\")\n",
        "print(text_df['text'].iloc[3],\"\\n\")\n",
        "print(text_df['text'].iloc[4],\"\\n\")"
      ],
      "metadata": {
        "id": "asFXLDXNeOYv"
      },
      "execution_count": null,
      "outputs": []
    },
    {
      "cell_type": "code",
      "source": [
        "text_df.info()"
      ],
      "metadata": {
        "id": "o91492nneTQK"
      },
      "execution_count": null,
      "outputs": []
    },
    {
      "cell_type": "code",
      "source": [
        "def data_processing(text):\n",
        "    text = text.lower()\n",
        "    text = re.sub(r\"https\\S+|www\\S+https\\S+\", '',text, flags=re.MULTILINE)\n",
        "    text = re.sub(r'\\@w+|\\#','',text)\n",
        "    text = re.sub(r'[^\\w\\s]','',text)\n",
        "    text_tokens = word_tokenize(text)\n",
        "    filtered_text = [w for w in text_tokens if not w in stop_words]\n",
        "    return \" \".join(filtered_text)"
      ],
      "metadata": {
        "id": "u4o60-LWeVjU"
      },
      "execution_count": null,
      "outputs": []
    },
    {
      "cell_type": "code",
      "source": [
        "nltk.download('punkt')\n",
        "text_df.text = text_df['text'].apply(data_processing)"
      ],
      "metadata": {
        "id": "AICHfbPeelGY"
      },
      "execution_count": null,
      "outputs": []
    },
    {
      "cell_type": "code",
      "source": [
        "text_df = text_df.drop_duplicates('text')"
      ],
      "metadata": {
        "id": "A3XvNmc2epFW"
      },
      "execution_count": null,
      "outputs": []
    },
    {
      "cell_type": "code",
      "source": [
        "stemmer = PorterStemmer()\n",
        "def stemming(data):\n",
        "    text = [stemmer.stem(word) for word in data]\n",
        "    return data\n"
      ],
      "metadata": {
        "id": "rWcKO_5jerIw"
      },
      "execution_count": null,
      "outputs": []
    },
    {
      "cell_type": "code",
      "source": [
        "text_df['text'] = text_df['text'].apply(lambda x: stemming(x))   ####################"
      ],
      "metadata": {
        "id": "P8EwaaRaetN1"
      },
      "execution_count": null,
      "outputs": []
    },
    {
      "cell_type": "code",
      "source": [
        "text_df.head()"
      ],
      "metadata": {
        "id": "ZSW2vyzLevdP"
      },
      "execution_count": null,
      "outputs": []
    },
    {
      "cell_type": "code",
      "source": [
        "print(text_df['text'].iloc[0],\"\\n\")\n",
        "print(text_df['text'].iloc[1],\"\\n\")\n",
        "print(text_df['text'].iloc[2],\"\\n\")\n",
        "print(text_df['text'].iloc[3],\"\\n\")\n",
        "print(text_df['text'].iloc[4],\"\\n\")"
      ],
      "metadata": {
        "id": "AquwmCvaeyGL"
      },
      "execution_count": null,
      "outputs": []
    },
    {
      "cell_type": "code",
      "source": [
        "text_df.info()"
      ],
      "metadata": {
        "id": "wVjGBEFke1dP"
      },
      "execution_count": null,
      "outputs": []
    },
    {
      "cell_type": "code",
      "source": [
        "def polarity(text):\n",
        "    return TextBlob(text).sentiment.polarity"
      ],
      "metadata": {
        "id": "5FH-7veoe3jQ"
      },
      "execution_count": null,
      "outputs": []
    },
    {
      "cell_type": "code",
      "source": [
        "text_df['polarity'] = text_df['text'].apply(polarity)"
      ],
      "metadata": {
        "id": "YDlkb6-ce7mb"
      },
      "execution_count": null,
      "outputs": []
    },
    {
      "cell_type": "code",
      "source": [
        "text_df.head(10)"
      ],
      "metadata": {
        "id": "R72uWxLVe9NG"
      },
      "execution_count": null,
      "outputs": []
    },
    {
      "cell_type": "code",
      "source": [
        "def sentiment(label):\n",
        "    if label <0:\n",
        "        return \"Negative\"\n",
        "    elif label ==0:\n",
        "        return \"Neutral\"\n",
        "    elif label>0:\n",
        "        return \"Positive\""
      ],
      "metadata": {
        "id": "gT4J3odXe-1R"
      },
      "execution_count": null,
      "outputs": []
    },
    {
      "cell_type": "code",
      "source": [
        "text_df['sentiment'] = text_df['polarity'].apply(sentiment)\n"
      ],
      "metadata": {
        "id": "u0Fle_m-fBdm"
      },
      "execution_count": null,
      "outputs": []
    },
    {
      "cell_type": "code",
      "source": [
        "text_df.head()\n"
      ],
      "metadata": {
        "id": "Z4Tr0g0OfDcd"
      },
      "execution_count": null,
      "outputs": []
    },
    {
      "cell_type": "code",
      "source": [
        "fig = plt.figure(figsize=(5,5))\n",
        "sns.countplot(x='sentiment', data = text_df)\n"
      ],
      "metadata": {
        "id": "yAXvSJIMfFTo"
      },
      "execution_count": null,
      "outputs": []
    },
    {
      "cell_type": "code",
      "source": [
        "fig = plt.figure(figsize=(7,7))\n",
        "colors = (\"yellowgreen\", \"gold\", \"red\")\n",
        "wp = {'linewidth':2, 'edgecolor':\"black\"}\n",
        "tags = text_df['sentiment'].value_counts()\n",
        "explode = (0.1,0.1,0.1)\n",
        "tags.plot(kind='pie', autopct='%1.1f%%', shadow=True, colors = colors,\n",
        "         startangle=90, wedgeprops = wp, explode = explode, label='')\n",
        "plt.title('Distribution of sentiments')\n"
      ],
      "metadata": {
        "id": "XVoAp9XFfHhh"
      },
      "execution_count": null,
      "outputs": []
    },
    {
      "cell_type": "code",
      "source": [
        "pos_tweets = text_df[text_df.sentiment == 'Positive']\n",
        "pos_tweets = pos_tweets.sort_values(['polarity'], ascending= False)\n",
        "pos_tweets.head()\n"
      ],
      "metadata": {
        "id": "5frPwsyTfIOl"
      },
      "execution_count": null,
      "outputs": []
    },
    {
      "cell_type": "code",
      "source": [
        "text = ' '.join([word for word in pos_tweets['text']])\n",
        "plt.figure(figsize=(20,15), facecolor='None')\n",
        "wordcloud = WordCloud(max_words=500, width=1600, height=800).generate(text)\n",
        "plt.imshow(wordcloud, interpolation='bilinear')\n",
        "plt.axis(\"off\")\n",
        "plt.title('Most frequent words in positive tweets', fontsize=19)\n",
        "plt.show()"
      ],
      "metadata": {
        "id": "RjdIvQMKfLfq"
      },
      "execution_count": null,
      "outputs": []
    },
    {
      "cell_type": "code",
      "source": [
        "neg_tweets = text_df[text_df.sentiment == 'Negative']\n",
        "neg_tweets = neg_tweets.sort_values(['polarity'], ascending= False)\n",
        "neg_tweets.head()\n"
      ],
      "metadata": {
        "id": "PbY5OFtRfP0p"
      },
      "execution_count": null,
      "outputs": []
    },
    {
      "cell_type": "code",
      "source": [
        "text = ' '.join([word for word in neg_tweets['text']])\n",
        "plt.figure(figsize=(20,15), facecolor='None')\n",
        "wordcloud = WordCloud(max_words=500, width=1600, height=800).generate(text)\n",
        "plt.imshow(wordcloud, interpolation='bilinear')\n",
        "plt.axis(\"off\")\n",
        "plt.title('Most frequent words in negative tweets', fontsize=19)\n",
        "plt.show()"
      ],
      "metadata": {
        "id": "JjJnwxwbfScf"
      },
      "execution_count": null,
      "outputs": []
    },
    {
      "cell_type": "code",
      "source": [
        "neutral_tweets = text_df[text_df.sentiment == 'Neutral']\n",
        "neutral_tweets = neutral_tweets.sort_values(['polarity'], ascending= False)\n",
        "neutral_tweets.head()\n"
      ],
      "metadata": {
        "id": "cEfHuzvRfUgF"
      },
      "execution_count": null,
      "outputs": []
    },
    {
      "cell_type": "code",
      "source": [
        "text = ' '.join([word for word in neutral_tweets['text']])\n",
        "plt.figure(figsize=(20,15), facecolor='None')\n",
        "wordcloud = WordCloud(max_words=500, width=1600, height=800).generate(text)\n",
        "plt.imshow(wordcloud, interpolation='bilinear')\n",
        "plt.axis(\"off\")\n",
        "plt.title('Most frequent words in neutral tweets', fontsize=19)\n",
        "plt.show()"
      ],
      "metadata": {
        "id": "yZFCTD2-fVGr"
      },
      "execution_count": null,
      "outputs": []
    },
    {
      "cell_type": "code",
      "source": [
        "vect = CountVectorizer(ngram_range=(1,2)).fit(text_df['text']) #we are defining the length by passing a tuple to the ngram_range(1,2) argument"
      ],
      "metadata": {
        "id": "V2e4KGJpfXoi"
      },
      "execution_count": null,
      "outputs": []
    },
    {
      "cell_type": "code",
      "source": [
        "feature_names = vect.get_feature_names()\n",
        "print(\"Number of features: {}\\n\".format(len(feature_names)))\n",
        "print(\"First 20 features:\\n {}\".format(feature_names[:20]))"
      ],
      "metadata": {
        "id": "S6gQUIU1falE"
      },
      "execution_count": null,
      "outputs": []
    },
    {
      "cell_type": "code",
      "source": [
        "#separating the data in to x and y\n",
        "X = text_df['text']\n",
        "Y = text_df['sentiment']\n",
        "X = vect.transform(X)\n"
      ],
      "metadata": {
        "id": "42Ql4YEjfdgf"
      },
      "execution_count": null,
      "outputs": []
    },
    {
      "cell_type": "code",
      "source": [
        "x_train, x_test, y_train, y_test = train_test_split(X, Y, test_size=0.2, random_state=42)"
      ],
      "metadata": {
        "id": "riGe1u49fjPM"
      },
      "execution_count": null,
      "outputs": []
    },
    {
      "cell_type": "code",
      "source": [
        "\n",
        "print(\"Size of x_train:\", (x_train.shape))\n",
        "print(\"Size of y_train:\", (y_train.shape))\n",
        "print(\"Size of x_test:\", (x_test.shape))\n",
        "print(\"Size of y_test:\", (y_test.shape))\n"
      ],
      "metadata": {
        "id": "zIExGcTnfnpC"
      },
      "execution_count": null,
      "outputs": []
    },
    {
      "cell_type": "code",
      "source": [
        "import warnings\n",
        "warnings.filterwarnings('ignore')\n",
        "#if we dont use this we wil get the warning as total no of iteration is reached"
      ],
      "metadata": {
        "id": "ZpPuwtRJfqcP"
      },
      "execution_count": null,
      "outputs": []
    },
    {
      "cell_type": "code",
      "source": [
        " #training the data on logistic reg model\n",
        "logreg = LogisticRegression() #loading logistic reg model\n",
        "logreg.fit(x_train, y_train) #fitting x_train, y_train on the model\n",
        "logreg_pred = logreg.predict(x_test) #predict the value for the given test data\n",
        "logreg_acc = accuracy_score(logreg_pred, y_test) #calculating accuracy of the model\n",
        "print(\"Test accuracy: {:.2f}%\".format(logreg_acc*100)) #printing the accuracy"
      ],
      "metadata": {
        "id": "bsoh0m1cfsfJ"
      },
      "execution_count": null,
      "outputs": []
    },
    {
      "cell_type": "code",
      "source": [
        "print(confusion_matrix(y_test, logreg_pred))\n",
        "print(\"\\n\")\n",
        "print(classification_report(y_test, logreg_pred))\n"
      ],
      "metadata": {
        "id": "JhW9RzsRfuaL"
      },
      "execution_count": null,
      "outputs": []
    },
    {
      "cell_type": "code",
      "source": [
        "style.use('classic')\n",
        "cm = confusion_matrix(y_test, logreg_pred, labels=logreg.classes_)\n",
        "disp = ConfusionMatrixDisplay(confusion_matrix = cm, display_labels=logreg.classes_)\n",
        "disp.plot()\n"
      ],
      "metadata": {
        "id": "3JnJIgWzfwRt"
      },
      "execution_count": null,
      "outputs": []
    },
    {
      "cell_type": "code",
      "source": [],
      "metadata": {
        "id": "xt7b1DPltZl_"
      },
      "execution_count": null,
      "outputs": []
    }
  ]
}